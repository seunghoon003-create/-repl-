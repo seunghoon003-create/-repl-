{
  "nbformat": 4,
  "nbformat_minor": 0,
  "metadata": {
    "colab": {
      "provenance": [],
      "authorship_tag": "ABX9TyMmdN2svT5RZS/mwk8dK5c2",
      "include_colab_link": true
    },
    "kernelspec": {
      "name": "python3",
      "display_name": "Python 3"
    },
    "language_info": {
      "name": "python"
    }
  },
  "cells": [
    {
      "cell_type": "markdown",
      "metadata": {
        "id": "view-in-github",
        "colab_type": "text"
      },
      "source": [
        "<a href=\"https://colab.research.google.com/github/seunghoon003-create/-repl-/blob/main/Untitled7.ipynb\" target=\"_parent\"><img src=\"https://colab.research.google.com/assets/colab-badge.svg\" alt=\"Open In Colab\"/></a>"
      ]
    },
    {
      "cell_type": "code",
      "execution_count": 1,
      "metadata": {
        "colab": {
          "base_uri": "https://localhost:8080/"
        },
        "id": "kTWkqU2vgZ3n",
        "outputId": "b2929150-b7c1-44f8-b36c-216853e61e49"
      },
      "outputs": [
        {
          "output_type": "stream",
          "name": "stdout",
          "text": [
            "이름을 입력하세요: 승훈\n",
            "\n",
            "전체 결과:\n",
            "태은: 청소 걸레\n",
            "영호: 청소 싱크대\n",
            "준우: 청소 쓸쓸폰\n",
            "\n",
            "당신의 결과:\n",
            "승훈: 통과\n"
          ]
        }
      ],
      "source": [
        "import random\n",
        "import datetime\n",
        "import time\n",
        "\n",
        "# 참가자 명단\n",
        "participants = ['승훈', '태은', '영호', '준우']\n",
        "\n",
        "# 청소 역할 리스트\n",
        "roles = ['쓸쓸폰', '걸레', '싱크대']\n",
        "\n",
        "# 오늘 날짜 기반 시드 생성\n",
        "today = datetime.date.today().isoformat()  # 'YYYY-MM-DD' 형식\n",
        "random.seed(today)  # 고유 시드 설정 (날짜 기준)\n",
        "\n",
        "# 청소 담당자와 역할 분배 (날짜 고정)\n",
        "cleaners = random.sample(participants, len(roles))  # 역할 수만큼 담당자 선택\n",
        "assigned_roles = dict(zip(cleaners, roles))  # 담당자와 역할 매칭\n",
        "\n",
        "# 사용자 입력\n",
        "user_name = input(\"이름을 입력하세요: \").strip()\n",
        "\n",
        "# 전체 결과 출력 (입력한 이름은 제외, 1초 간격)\n",
        "print(\"\\n전체 결과:\")\n",
        "for person in participants:\n",
        "    if person == user_name:\n",
        "        continue  # 입력한 이름은 건너뜀\n",
        "    time.sleep(1)  # 1초 대기\n",
        "    if person in assigned_roles:\n",
        "        print(f\"{person}: 청소 {assigned_roles[person]}\")\n",
        "    else:\n",
        "        print(f\"{person}: 통과\")\n",
        "\n",
        "# 입력한 이름의 결과 출력\n",
        "time.sleep(1)  # 마지막 출력 전 추가 대기\n",
        "print(\"\\n당신의 결과:\")\n",
        "if user_name not in participants:\n",
        "    print(\"명단에 없는 이름입니다. 다시 확인해주세요.\")\n",
        "else:\n",
        "    if user_name in assigned_roles:\n",
        "        print(f\"{user_name}: 청소 담당 ({assigned_roles[user_name]})\")\n",
        "    else:\n",
        "        print(f\"{user_name}: 통과\")"
      ]
    }
  ]
}